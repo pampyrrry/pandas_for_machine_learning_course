{
 "cells": [
  {
   "cell_type": "code",
   "execution_count": 1,
   "id": "9fc7765f-7870-47cb-8a8b-89ec4add5fb7",
   "metadata": {},
   "outputs": [],
   "source": [
    "import pandas as pd\n",
    "import numpy as np"
   ]
  },
  {
   "cell_type": "code",
   "execution_count": 2,
   "id": "7c9ecde9-745b-4047-a035-f88dfe0f60d8",
   "metadata": {},
   "outputs": [
    {
     "data": {
      "text/plain": [
       "0     5\n",
       "1     9\n",
       "2    12\n",
       "3    27\n",
       "dtype: int64"
      ]
     },
     "execution_count": 2,
     "metadata": {},
     "output_type": "execute_result"
    }
   ],
   "source": [
    "# Pandas series - Like a Table Column - 1 Dimension Array Holding Any type of Data\n",
    "my_series = [5,9,12,27]\n",
    "my_var = pd.Series(my_series)\n",
    "my_var"
   ]
  },
  {
   "cell_type": "code",
   "execution_count": 4,
   "id": "7d2c31cc-7f2a-483b-9ff9-bebf18d03def",
   "metadata": {},
   "outputs": [
    {
     "data": {
      "text/plain": [
       "12"
      ]
     },
     "execution_count": 4,
     "metadata": {},
     "output_type": "execute_result"
    }
   ],
   "source": [
    "# Print specific  value\n",
    "my_var[2]"
   ]
  },
  {
   "cell_type": "code",
   "execution_count": 5,
   "id": "bf71e281-d13f-4ba0-8a02-5ea6509abb35",
   "metadata": {},
   "outputs": [
    {
     "data": {
      "text/plain": [
       "A     5\n",
       "B     9\n",
       "C    12\n",
       "D    27\n",
       "dtype: int64"
      ]
     },
     "execution_count": 5,
     "metadata": {},
     "output_type": "execute_result"
    }
   ],
   "source": [
    "# Labels using the index argument\n",
    "my_index = [\"A\", \"B\", \"C\", \"D\"]\n",
    "my_var2 = pd.Series(my_series, my_index)\n",
    "my_var2"
   ]
  },
  {
   "cell_type": "code",
   "execution_count": 6,
   "id": "745b513f-8cc3-4d74-a862-25fc4b4dc15b",
   "metadata": {},
   "outputs": [
    {
     "data": {
      "text/plain": [
       "9"
      ]
     },
     "execution_count": 6,
     "metadata": {},
     "output_type": "execute_result"
    }
   ],
   "source": [
    "my_var2[\"B\"]\n"
   ]
  },
  {
   "cell_type": "code",
   "execution_count": null,
   "id": "9a1d64de-5b87-43af-8c84-04402431fb5a",
   "metadata": {},
   "outputs": [],
   "source": [
    "# Key  Value Dictionary\n",
    "cars = {\"Tesla\": 12, \"Mercedes\":42, \"BMW\": 3}\n",
    "my_var3 = pd."
   ]
  }
 ],
 "metadata": {
  "kernelspec": {
   "display_name": "Python 3 (ipykernel)",
   "language": "python",
   "name": "python3"
  },
  "language_info": {
   "codemirror_mode": {
    "name": "ipython",
    "version": 3
   },
   "file_extension": ".py",
   "mimetype": "text/x-python",
   "name": "python",
   "nbconvert_exporter": "python",
   "pygments_lexer": "ipython3",
   "version": "3.11.4"
  }
 },
 "nbformat": 4,
 "nbformat_minor": 5
}
