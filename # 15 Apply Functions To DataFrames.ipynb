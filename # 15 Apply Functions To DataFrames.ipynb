{
 "cells": [
  {
   "cell_type": "code",
   "execution_count": 1,
   "id": "9251ddfb-ce85-4f7c-82d8-8272a0dbe79c",
   "metadata": {},
   "outputs": [],
   "source": [
    "import pandas as pd\n",
    "import numpy as np"
   ]
  },
  {
   "cell_type": "code",
   "execution_count": 2,
   "id": "739ec41d-6a63-4534-9e11-bc59eb983603",
   "metadata": {},
   "outputs": [],
   "source": [
    "# Create Data\n",
    "stuff = {\n",
    "    'Corporation': ['Apple', 'Google', 'Meta', 'Apple', 'Google', 'Meta'],\n",
    "    'Employees': ['John', 'April', 'Wes', 'Beth', 'Justin', 'Steph'],\n",
    "    'Salary': [200, 220, 190, 130, 120, 150]}\n"
   ]
  },
  {
   "cell_type": "code",
   "execution_count": 4,
   "id": "f2fb65fb-7779-4199-b9f1-1b955178c10f",
   "metadata": {},
   "outputs": [
    {
     "data": {
      "text/html": [
       "<div>\n",
       "<style scoped>\n",
       "    .dataframe tbody tr th:only-of-type {\n",
       "        vertical-align: middle;\n",
       "    }\n",
       "\n",
       "    .dataframe tbody tr th {\n",
       "        vertical-align: top;\n",
       "    }\n",
       "\n",
       "    .dataframe thead th {\n",
       "        text-align: right;\n",
       "    }\n",
       "</style>\n",
       "<table border=\"1\" class=\"dataframe\">\n",
       "  <thead>\n",
       "    <tr style=\"text-align: right;\">\n",
       "      <th></th>\n",
       "      <th>Corporation</th>\n",
       "      <th>Employees</th>\n",
       "      <th>Salary</th>\n",
       "    </tr>\n",
       "  </thead>\n",
       "  <tbody>\n",
       "    <tr>\n",
       "      <th>0</th>\n",
       "      <td>Apple</td>\n",
       "      <td>John</td>\n",
       "      <td>200</td>\n",
       "    </tr>\n",
       "    <tr>\n",
       "      <th>1</th>\n",
       "      <td>Google</td>\n",
       "      <td>April</td>\n",
       "      <td>220</td>\n",
       "    </tr>\n",
       "    <tr>\n",
       "      <th>2</th>\n",
       "      <td>Meta</td>\n",
       "      <td>Wes</td>\n",
       "      <td>190</td>\n",
       "    </tr>\n",
       "    <tr>\n",
       "      <th>3</th>\n",
       "      <td>Apple</td>\n",
       "      <td>Beth</td>\n",
       "      <td>130</td>\n",
       "    </tr>\n",
       "    <tr>\n",
       "      <th>4</th>\n",
       "      <td>Google</td>\n",
       "      <td>Justin</td>\n",
       "      <td>120</td>\n",
       "    </tr>\n",
       "    <tr>\n",
       "      <th>5</th>\n",
       "      <td>Meta</td>\n",
       "      <td>Steph</td>\n",
       "      <td>150</td>\n",
       "    </tr>\n",
       "  </tbody>\n",
       "</table>\n",
       "</div>"
      ],
      "text/plain": [
       "  Corporation Employees  Salary\n",
       "0       Apple      John     200\n",
       "1      Google     April     220\n",
       "2        Meta       Wes     190\n",
       "3       Apple      Beth     130\n",
       "4      Google    Justin     120\n",
       "5        Meta     Steph     150"
      ]
     },
     "execution_count": 4,
     "metadata": {},
     "output_type": "execute_result"
    }
   ],
   "source": [
    "# Create Dataframe\n",
    "my_df = pd.DataFrame(stuff)\n",
    "my_df"
   ]
  },
  {
   "cell_type": "code",
   "execution_count": 11,
   "id": "b168bb4c-b4c1-44a1-b941-f36d3a041530",
   "metadata": {},
   "outputs": [],
   "source": [
    "# Create function\n",
    "def times1000(x):\n",
    "    #return x * 1000\n",
    "    return format (x * 1000, ',d')"
   ]
  },
  {
   "cell_type": "code",
   "execution_count": 12,
   "id": "8f8a6b80-6c4b-42c1-9634-3a22f6e48653",
   "metadata": {},
   "outputs": [
    {
     "data": {
      "text/plain": [
       "0    200,000\n",
       "1    220,000\n",
       "2    190,000\n",
       "3    130,000\n",
       "4    120,000\n",
       "5    150,000\n",
       "Name: Salary, dtype: object"
      ]
     },
     "execution_count": 12,
     "metadata": {},
     "output_type": "execute_result"
    }
   ],
   "source": [
    "# Use Apply Function\n",
    "my_df[\"Salary\"].apply(times1000)"
   ]
  },
  {
   "cell_type": "code",
   "execution_count": 13,
   "id": "80513d74-a8b9-46e8-9226-b36a361ac6c3",
   "metadata": {},
   "outputs": [],
   "source": [
    "# Add Dan Last Name\n",
    "def namer(x):\n",
    "    if x == \"John\":\n",
    "        return \"John Dan\"\n",
    "    else:\n",
    "        return x"
   ]
  },
  {
   "cell_type": "code",
   "execution_count": 15,
   "id": "3e978d82-71bb-4642-acd6-322aa5dbe278",
   "metadata": {},
   "outputs": [
    {
     "data": {
      "text/plain": [
       "0    John Dan\n",
       "1       April\n",
       "2         Wes\n",
       "3        Beth\n",
       "4      Justin\n",
       "5       Steph\n",
       "Name: Employees, dtype: object"
      ]
     },
     "execution_count": 15,
     "metadata": {},
     "output_type": "execute_result"
    }
   ],
   "source": [
    "# Show namer()\n",
    "my_df[\"Employees\"].apply(namer)"
   ]
  },
  {
   "cell_type": "code",
   "execution_count": 18,
   "id": "d45eccac-f13a-4e72-9e6f-f42411de218a",
   "metadata": {},
   "outputs": [
    {
     "data": {
      "text/plain": [
       "0    200000\n",
       "1    220000\n",
       "2    190000\n",
       "3    130000\n",
       "4    120000\n",
       "5    150000\n",
       "Name: Salary, dtype: int64"
      ]
     },
     "execution_count": 18,
     "metadata": {},
     "output_type": "execute_result"
    }
   ],
   "source": [
    "# Use Lambda\n",
    "my_df[\"Salary\"].apply(lambda x: x * 1000)"
   ]
  },
  {
   "cell_type": "code",
   "execution_count": 21,
   "id": "441b76ae-187c-4354-a7e6-df3107fd3373",
   "metadata": {},
   "outputs": [
    {
     "data": {
      "text/html": [
       "<div>\n",
       "<style scoped>\n",
       "    .dataframe tbody tr th:only-of-type {\n",
       "        vertical-align: middle;\n",
       "    }\n",
       "\n",
       "    .dataframe tbody tr th {\n",
       "        vertical-align: top;\n",
       "    }\n",
       "\n",
       "    .dataframe thead th {\n",
       "        text-align: right;\n",
       "    }\n",
       "</style>\n",
       "<table border=\"1\" class=\"dataframe\">\n",
       "  <thead>\n",
       "    <tr style=\"text-align: right;\">\n",
       "      <th></th>\n",
       "      <th>Salary</th>\n",
       "    </tr>\n",
       "  </thead>\n",
       "  <tbody>\n",
       "    <tr>\n",
       "      <th>0</th>\n",
       "      <td>200,000</td>\n",
       "    </tr>\n",
       "    <tr>\n",
       "      <th>1</th>\n",
       "      <td>220,000</td>\n",
       "    </tr>\n",
       "    <tr>\n",
       "      <th>2</th>\n",
       "      <td>190,000</td>\n",
       "    </tr>\n",
       "    <tr>\n",
       "      <th>3</th>\n",
       "      <td>130,000</td>\n",
       "    </tr>\n",
       "    <tr>\n",
       "      <th>4</th>\n",
       "      <td>120,000</td>\n",
       "    </tr>\n",
       "    <tr>\n",
       "      <th>5</th>\n",
       "      <td>150,000</td>\n",
       "    </tr>\n",
       "  </tbody>\n",
       "</table>\n",
       "</div>"
      ],
      "text/plain": [
       "    Salary\n",
       "0  200,000\n",
       "1  220,000\n",
       "2  190,000\n",
       "3  130,000\n",
       "4  120,000\n",
       "5  150,000"
      ]
     },
     "execution_count": 21,
     "metadata": {},
     "output_type": "execute_result"
    }
   ],
   "source": [
    "pd.DataFrame(my_df[\"Salary\"].apply(lambda x: format (x * 1000,',d')))"
   ]
  },
  {
   "cell_type": "code",
   "execution_count": null,
   "id": "39f9dfa7-b0f3-4b20-bfee-ff0a5c98e85a",
   "metadata": {},
   "outputs": [],
   "source": []
  }
 ],
 "metadata": {
  "kernelspec": {
   "display_name": "Python 3 (ipykernel)",
   "language": "python",
   "name": "python3"
  },
  "language_info": {
   "codemirror_mode": {
    "name": "ipython",
    "version": 3
   },
   "file_extension": ".py",
   "mimetype": "text/x-python",
   "name": "python",
   "nbconvert_exporter": "python",
   "pygments_lexer": "ipython3",
   "version": "3.11.4"
  }
 },
 "nbformat": 4,
 "nbformat_minor": 5
}
